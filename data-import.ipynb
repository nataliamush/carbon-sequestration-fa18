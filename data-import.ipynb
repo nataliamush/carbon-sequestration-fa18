{
 "cells": [
  {
   "cell_type": "code",
   "execution_count": null,
   "metadata": {},
   "outputs": [],
   "source": [
    "#!conda install pyshp"
   ]
  },
  {
   "cell_type": "markdown",
   "metadata": {},
   "source": [
    "a note on file structure: if we all download files separately, put them in the same directory as this notebook using the same names we've been using - paths used in this notebook should work"
   ]
  },
  {
   "cell_type": "code",
   "execution_count": 1,
   "metadata": {},
   "outputs": [],
   "source": [
    "import shapefile \n",
    "import numpy as np\n",
    "import pandas as pd\n",
    "import sklearn"
   ]
  },
  {
   "cell_type": "markdown",
   "metadata": {},
   "source": [
    "what needs to happen in this notebook:\n",
    "\n",
    "1) read in all datasets, in whatever file type they come in - make sure they're all in the same projection (WGS 84 probably)\n",
    "\n",
    "2) write a function that from coordinates (taken from our training data) pulls out relevant attributes at that location from all the datasets - there's gonna be different methods for doing this for each, have to decide what size of area to pull from if it's like a TIF where there's multiple values for some attribute in the area and we want to average them\n",
    "\n",
    "3) use this function to construct a table of attributes, sequestration rates, and locations (as a key)\n",
    "\n",
    "4) train a model! woo\n",
    "\n",
    "after that:\n",
    "\n",
    "5) come up with a table of coordinates (or cells? probably cells actually, can use coordinates for the center of each cell) for the rest of the world\n",
    "\n",
    "6) using those coordinates, use our same function to pull out attributes for each location\n",
    "\n",
    "7) with this table predict using our model\n",
    "\n",
    "8) display these results nicely somewhere rip rop"
   ]
  },
  {
   "cell_type": "code",
   "execution_count": 5,
   "metadata": {},
   "outputs": [
    {
     "data": {
      "text/plain": [
       "<shapefile.Reader at 0x110a0bc18>"
      ]
     },
     "execution_count": 5,
     "metadata": {},
     "output_type": "execute_result"
    }
   ],
   "source": [
    "#figuring out how to work with shapefiles\n",
    "ecoregions = shapefile.Reader(\"Ecoregions2017/Ecoregions2017.shp\")\n",
    "ecoregions"
   ]
  },
  {
   "cell_type": "code",
   "execution_count": null,
   "metadata": {},
   "outputs": [],
   "source": []
  }
 ],
 "metadata": {
  "kernelspec": {
   "display_name": "Python (data-x)",
   "language": "python",
   "name": "data-x"
  },
  "language_info": {
   "codemirror_mode": {
    "name": "ipython",
    "version": 3
   },
   "file_extension": ".py",
   "mimetype": "text/x-python",
   "name": "python",
   "nbconvert_exporter": "python",
   "pygments_lexer": "ipython3",
   "version": "3.6.5"
  }
 },
 "nbformat": 4,
 "nbformat_minor": 2
}
